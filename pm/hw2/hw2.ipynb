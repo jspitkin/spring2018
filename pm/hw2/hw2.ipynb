{
 "cells": [
  {
   "cell_type": "markdown",
   "metadata": {},
   "source": [
    "# Homework 2\n",
    "### Jake Pitkin\n",
    "**CS 6190: Probabilistic Modeling - Spring 2018**<br>\n",
    "**February 19 2018**"
   ]
  },
  {
   "cell_type": "markdown",
   "metadata": {},
   "source": [
    "**1. Create the following Bayesian network to analyze the survey results. You will want to use the provided function createCPTfromData.**\n",
    "\n",
    "<img src=\"img/network.png\" width=\"855\" height=\"611\" align=\"center\"/>\n",
    "\n",
    "First we will create the following Bayesian network using the Behavioral Risk Factor Surveillance System\n",
    "(BRFSS) survey data. The source code for the Bayesian network is located in `bayesian_network.py`."
   ]
  },
  {
   "cell_type": "code",
   "execution_count": 1,
   "metadata": {
    "collapsed": true
   },
   "outputs": [],
   "source": [
    "from bayesian_network import *\n",
    "\n",
    "# Read in the dataset\n",
    "data = pd.read_csv(\"RiskFactors.csv\")\n",
    "\n",
    "# Create the Bayesian network from the dataset\n",
    "income = createCPTfromData(data, [\"income\"])\n",
    "bmi = createCPTfromData(data, [\"bmi\", \"income\", \"exercise\"])\n",
    "exercise = createCPTfromData(data, [\"exercise\", \"income\"])\n",
    "smoke = createCPTfromData(data, [\"smoke\", \"income\"])\n",
    "bp = createCPTfromData(data, [\"bp\", \"income\", \"exercise\", \"smoke\"])\n",
    "cholesterol = createCPTfromData(data, [\"cholesterol\", \"income\", \"smoke\", \"exercise\"])\n",
    "diabetes = createCPTfromData(data, [\"diabetes\", \"bmi\"])\n",
    "stroke = createCPTfromData(data, [\"stroke\", \"bmi\", \"bp\", \"cholesterol\"])\n",
    "attack = createCPTfromData(data, [\"attack\", \"bmi\", \"bp\", \"cholesterol\"])\n",
    "angina = createCPTfromData(data, [\"angina\", \"bmi\", \"bp\", \"cholesterol\"])\n",
    "network = [income, bmi, exercise, smoke, bp, cholesterol, diabetes, stroke, attack, angina]"
   ]
  },
  {
   "cell_type": "markdown",
   "metadata": {
    "collapsed": true
   },
   "source": [
    "**1a. What is the size (in terms of the number of probabilities needed) of this network?**\n",
    "\n",
    "The size of the network can be determined by considering the number of rows in each factor of the network."
   ]
  },
  {
   "cell_type": "code",
   "execution_count": 2,
   "metadata": {},
   "outputs": [
    {
     "name": "stdout",
     "output_type": "stream",
     "text": [
      "504\n"
     ]
    }
   ],
   "source": [
    "rows = 0\n",
    "for factor in network:\n",
    "    rows += factor.shape[0]\n",
    "print(rows)"
   ]
  },
  {
   "cell_type": "markdown",
   "metadata": {},
   "source": [
    "The size of this network is 504 probabilities."
   ]
  },
  {
   "cell_type": "markdown",
   "metadata": {},
   "source": [
    "**1b. What is the total number of probabilities needed to store the full joint distribution?**\n",
    "\n",
    "For the entire joint distribution, we take the product of the number of values each random variable can take:\n",
    "\n",
    "$$\\prod_{i=1}^{10} \\ n(domain_i) = 8 * 2 * 2 * 4 * 4 * 2 * 2 * 2 * 2 * 4 = 32,768$$\n",
    "\n",
    "The size of the full join distribution is 32,768 probabilities."
   ]
  },
  {
   "cell_type": "markdown",
   "metadata": {},
   "source": [
    "**2. For each of the four health outcomes (diabetes, stroke, heart attack, angina), answer the following by querying your network (using your infer function):**"
   ]
  },
  {
   "cell_type": "markdown",
   "metadata": {},
   "source": [
    "**2a. What is the probabilitiy of the outcome if I have bad habits (smoke and don't exercise)?**"
   ]
  },
  {
   "cell_type": "code",
   "execution_count": 3,
   "metadata": {},
   "outputs": [
    {
     "name": "stdout",
     "output_type": "stream",
     "text": [
      "      probs  diabetes\n",
      "0  0.159330         1\n",
      "1  0.007881         2\n",
      "2  0.812632         3\n",
      "3  0.020156         4\n"
     ]
    }
   ],
   "source": [
    "diabetes_marg = [\"income\", \"bmi\", \"exercise\", \"smoke\", \"bp\", \"cholesterol\", \"stroke\", \"attack\", \"angina\"]\n",
    "diabetes_bad_habits = infer(network, diabetes_marg, [\"smoke\", \"exercise\"], [1, 2])\n",
    "print(diabetes_bad_habits)"
   ]
  },
  {
   "cell_type": "markdown",
   "metadata": {},
   "source": [
    "**2a. How about if I have good habits (don't smoke and do exercise)**"
   ]
  },
  {
   "cell_type": "code",
   "execution_count": 4,
   "metadata": {},
   "outputs": [
    {
     "name": "stdout",
     "output_type": "stream",
     "text": [
      "      probs  diabetes\n",
      "0  0.135062         1\n",
      "1  0.007674         2\n",
      "2  0.839392         3\n",
      "3  0.017873         4\n"
     ]
    }
   ],
   "source": [
    "diabetes_marg = [\"income\", \"bmi\", \"exercise\", \"smoke\", \"bp\", \"cholesterol\", \"stroke\", \"attack\", \"angina\"]\n",
    "diabetes_good_habits = infer(network, diabetes_marg, [\"smoke\", \"exercise\"], [2, 1])\n",
    "print(diabetes_good_habits)"
   ]
  },
  {
   "cell_type": "markdown",
   "metadata": {},
   "source": [
    "**2b. What is the probability of the outcome if I have poor health (high blood pressure, high cholesterol, and overweight)?**"
   ]
  },
  {
   "cell_type": "markdown",
   "metadata": {},
   "source": [
    "**2b. How about if I have good health (low blood pressure, low cholesterol, and normal weight)?**"
   ]
  },
  {
   "cell_type": "code",
   "execution_count": null,
   "metadata": {
    "collapsed": true
   },
   "outputs": [],
   "source": []
  }
 ],
 "metadata": {
  "kernelspec": {
   "display_name": "Python 3",
   "language": "python",
   "name": "python3"
  },
  "language_info": {
   "codemirror_mode": {
    "name": "ipython",
    "version": 3
   },
   "file_extension": ".py",
   "mimetype": "text/x-python",
   "name": "python",
   "nbconvert_exporter": "python",
   "pygments_lexer": "ipython3",
   "version": "3.6.3"
  }
 },
 "nbformat": 4,
 "nbformat_minor": 2
}
