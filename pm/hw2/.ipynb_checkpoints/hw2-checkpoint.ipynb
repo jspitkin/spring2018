{
 "cells": [
  {
   "cell_type": "markdown",
   "metadata": {},
   "source": [
    "# Homework 2\n",
    "### Jake Pitkin\n",
    "**CS 6190: Probabilistic Modeling - Spring 2018**<br>\n",
    "**February 19 2018**"
   ]
  },
  {
   "cell_type": "markdown",
   "metadata": {},
   "source": [
    "**1. Create the following Bayesian network to analyze the survey results. You will want to use the provided function createCPTfromData.**\n",
    "\n",
    "<img src=\"img/network.png\" width=\"855\" height=\"611\" align=\"center\"/>\n",
    "\n",
    "First we will create the following Bayesian network using the Behavioral Risk Factor Surveillance System\n",
    "(BRFSS) survey data. The source code for the Bayesian network is located in `bayesian_network.py`."
   ]
  },
  {
   "cell_type": "code",
   "execution_count": 4,
   "metadata": {
    "collapsed": true
   },
   "outputs": [],
   "source": [
    "from bayesian_network import *\n",
    "\n",
    "# Read in the dataset\n",
    "data = pd.read_csv(\"RiskFactors.csv\")\n",
    "\n",
    "# Create the Bayesian network from the dataset\n",
    "income = createCPTfromData(data, [\"income\"])\n",
    "bmi = createCPTfromData(data, [\"bmi\", \"income\", \"exercise\"])\n",
    "exercise = createCPTfromData(data, [\"exercise\", \"income\"])\n",
    "smoke = createCPTfromData(data, [\"smoke\", \"income\"])\n",
    "bp = createCPTfromData(data, [\"bp\", \"income\", \"exercise\", \"smoke\"])\n",
    "cholesterol = createCPTfromData(data, [\"cholesterol\", \"income\", \"smoke\", \"exercise\"])\n",
    "diabetes = createCPTfromData(data, [\"diabetes\", \"bmi\"])\n",
    "stroke = createCPTfromData(data, [\"stroke\", \"bmi\", \"bp\", \"cholesterol\"])\n",
    "attack = createCPTfromData(data, [\"attack\", \"bmi\", \"bp\", \"cholesterol\"])\n",
    "angina = createCPTfromData(data, [\"angina\", \"bmi\", \"bp\", \"cholesterol\"])\n",
    "network = [income, bmi, exercise, smoke, bp, cholesterol, diabetes, stroke, attack, angina]\n",
    "variables = [\"income\", \"bmi\", \"exercise\", \"smoke\", \"bp\", \"cholesterol\", \"diabetes\", \"stroke\", \"attack\", \"angina\"]"
   ]
  },
  {
   "cell_type": "markdown",
   "metadata": {
    "collapsed": true
   },
   "source": [
    "**1a. What is the size (in terms of the number of probabilities needed) of this network?**\n",
    "\n",
    "The size of the network can be determined by considering the number of rows in each factor of the network."
   ]
  },
  {
   "cell_type": "code",
   "execution_count": 16,
   "metadata": {},
   "outputs": [
    {
     "name": "stdout",
     "output_type": "stream",
     "text": [
      "504\n"
     ]
    }
   ],
   "source": [
    "rows = 0\n",
    "for factor in network:\n",
    "    rows += factor.shape[0]\n",
    "print(rows)"
   ]
  },
  {
   "cell_type": "markdown",
   "metadata": {},
   "source": [
    "The size of this network is 504 probabilities."
   ]
  },
  {
   "cell_type": "markdown",
   "metadata": {},
   "source": [
    "**1b. What is the total number of probabilities needed to store the full joint distribution?**\n",
    "\n",
    "For the entire joint distribution, we take the product of the number of values each random variable can take:\n",
    "\n",
    "$$\\prod_{i=1}^{10} \\ n(domain_i) = 8 * 2 * 2 * 4 * 4 * 2 * 2 * 2 * 2 * 4 = 32,768$$\n",
    "\n",
    "The size of the full join distribution is 32,768 probabilities."
   ]
  },
  {
   "cell_type": "markdown",
   "metadata": {},
   "source": [
    "**2. For each of the four health outcomes (diabetes, stroke, heart attack, angina), answer the following by querying your network (using your infer function):**"
   ]
  },
  {
   "cell_type": "markdown",
   "metadata": {},
   "source": [
    "**2a. What is the probabilitiy of the outcome if I have bad habits (smoke and don't exercise)?**"
   ]
  },
  {
   "cell_type": "code",
   "execution_count": 17,
   "metadata": {},
   "outputs": [
    {
     "name": "stdout",
     "output_type": "stream",
     "text": [
      "      probs  diabetes\n",
      "0  0.159330         1\n",
      "1  0.007881         2\n",
      "2  0.812632         3\n",
      "3  0.020156         4\n",
      "      probs  stroke\n",
      "0  0.050127       1\n",
      "1  0.949873       2\n",
      "      probs  attack\n",
      "0  0.072415       1\n",
      "1  0.927585       2\n",
      "      probs  angina\n",
      "0  0.077756       1\n",
      "1  0.922244       2\n"
     ]
    }
   ],
   "source": [
    "diabetes_marg = [x for x in variables if x != \"diabetes\"]\n",
    "stroke_marg = [x for x in variables if x != \"stroke\"]\n",
    "heart_attack_marg = [x for x in variables if x != \"attack\"]\n",
    "angina_marg = [x for x in variables if x != \"angina\"]\n",
    "\n",
    "diabetes_bad_habits = infer(network, diabetes_marg, [\"smoke\", \"exercise\"], [1, 2])\n",
    "stroke_bad_habits = infer(network, stroke_marg, [\"smoke\", \"exercise\"], [1, 2])\n",
    "heart_attack_bad_habits = infer(network, heart_attack_marg, [\"smoke\", \"exercise\"], [1, 2])\n",
    "angina_bad_habits = infer(network, angina_marg, [\"smoke\", \"exercise\"], [1, 2])\n",
    "\n",
    "print(diabetes_bad_habits)\n",
    "print(stroke_bad_habits)\n",
    "print(heart_attack_bad_habits)\n",
    "print(angina_bad_habits)"
   ]
  },
  {
   "cell_type": "markdown",
   "metadata": {},
   "source": [
    "<table style=\"width: 80%, text-align: center\">\n",
    "  <caption style=\"font-size: 14px; color: black; text-align: center\">Health Risks With Bad Habits</caption>\n",
    "  <tr style=\"border: 1px solid black\">\n",
    "    <th style=\"border: 1px solid black\"></th>\n",
    "    <th style=\"border: 1px solid black\">Diabetes</th>\n",
    "    <th style=\"border: 1px solid black\">Stroke</th>\n",
    "    <th style=\"border: 1px solid black\">Heart Attack</th>\n",
    "    <th style=\"border: 1px solid black\">Angina</th>\n",
    "  </tr>\n",
    "  <tr style=\"border: 1px solid black\">\n",
    "    <td style=\"border: 1px solid black; font-weight: bold\">Yes</td>\n",
    "    <td style=\"border: 1px solid black\">0.159330</td>\n",
    "    <td style=\"border: 1px solid black\">0.050127</td>\n",
    "    <td style=\"border: 1px solid black\">0.072515</td>\n",
    "    <td style=\"border: 1px solid black\">0.077756</td>\n",
    "  </tr>\n",
    "  <tr style=\"border: 1px solid black\">\n",
    "    <td style=\"border: 1px solid black; font-weight: bold\">No</td>\n",
    "    <td style=\"border: 1px solid black\">0.812632</td>\n",
    "    <td style=\"border: 1px solid black\">0.949873</td>\n",
    "    <td style=\"border: 1px solid black\">0.927585</td>\n",
    "    <td style=\"border: 1px solid black\">0.922244</td>\n",
    "  </tr>\n",
    "  <tr style=\"border: 1px solid black\">\n",
    "    <td style=\"border: 1px solid black; font-weight: bold\">Only During Pregnancy</td>\n",
    "    <td style=\"border: 1px solid black\">0.007881</td>\n",
    "    <td style=\"border: 1px solid black\"></td>\n",
    "    <td style=\"border: 1px solid black\"></td>\n",
    "    <td style=\"border: 1px solid black\"></td>\n",
    "  </tr>\n",
    "  <tr style=\"border: 1px solid black\">\n",
    "    <td style=\"border: 1px solid black; font-weight: bold\">Pre-diabetic</td>\n",
    "    <td style=\"border: 1px solid black\">0.020156</td>\n",
    "    <td style=\"border: 1px solid black\"></td>\n",
    "    <td style=\"border: 1px solid black\"></td>\n",
    "    <td style=\"border: 1px solid black\"></td>\n",
    "  </tr>\n",
    "</table>"
   ]
  },
  {
   "cell_type": "markdown",
   "metadata": {},
   "source": [
    "**2a. How about if I have good habits (don't smoke and do exercise)**"
   ]
  },
  {
   "cell_type": "code",
   "execution_count": 29,
   "metadata": {},
   "outputs": [
    {
     "name": "stdout",
     "output_type": "stream",
     "text": [
      "      probs  diabetes\n",
      "0  0.135062         1\n",
      "1  0.007674         2\n",
      "2  0.839392         3\n",
      "3  0.017873         4\n",
      "      probs  stroke\n",
      "0  0.036808       1\n",
      "1  0.963192       2\n",
      "      probs  attack\n",
      "0  0.051027       1\n",
      "1  0.948973       2\n",
      "      probs  angina\n",
      "0  0.052319       1\n",
      "1  0.947681       2\n"
     ]
    }
   ],
   "source": [
    "diabetes_good_habits = infer(network, diabetes_marg, [\"smoke\", \"exercise\"], [2, 1])\n",
    "stroke_good_habits = infer(network, stroke_marg, [\"smoke\", \"exercise\"], [2, 1])\n",
    "heart_attack_good_habits = infer(network, heart_attack_marg, [\"smoke\", \"exercise\"], [2, 1])\n",
    "angina_good_habits = infer(network, angina_marg, [\"smoke\", \"exercise\"], [2, 1])\n",
    "\n",
    "print(diabetes_good_habits)\n",
    "print(stroke_good_habits)\n",
    "print(heart_attack_good_habits)\n",
    "print(angina_good_habits)"
   ]
  },
  {
   "cell_type": "markdown",
   "metadata": {},
   "source": [
    "<table style=\"width: 80%, text-align: center\">\n",
    "  <caption style=\"font-size: 14px; color: black; text-align: center\">Health Risks With Good Habits</caption>\n",
    "  <tr style=\"border: 1px solid black\">\n",
    "    <th style=\"border: 1px solid black\"></th>\n",
    "    <th style=\"border: 1px solid black\">Diabetes</th>\n",
    "    <th style=\"border: 1px solid black\">Stroke</th>\n",
    "    <th style=\"border: 1px solid black\">Heart Attack</th>\n",
    "    <th style=\"border: 1px solid black\">Angina</th>\n",
    "  </tr>\n",
    "  <tr style=\"border: 1px solid black\">\n",
    "    <td style=\"border: 1px solid black; font-weight: bold\">Yes</td>\n",
    "    <td style=\"border: 1px solid black\">0.135062</td>\n",
    "    <td style=\"border: 1px solid black\">0.036808</td>\n",
    "    <td style=\"border: 1px solid black\">0.051027</td>\n",
    "    <td style=\"border: 1px solid black\">0.052319</td>\n",
    "  </tr>\n",
    "  <tr style=\"border: 1px solid black\">\n",
    "    <td style=\"border: 1px solid black; font-weight: bold\">No</td>\n",
    "    <td style=\"border: 1px solid black\">0.839392</td>\n",
    "    <td style=\"border: 1px solid black\">0.963192</td>\n",
    "    <td style=\"border: 1px solid black\">0.948973</td>\n",
    "    <td style=\"border: 1px solid black\">0.947681</td>\n",
    "  </tr>\n",
    "  <tr style=\"border: 1px solid black\">\n",
    "    <td style=\"border: 1px solid black; font-weight: bold\">Only During Pregnancy</td>\n",
    "    <td style=\"border: 1px solid black\">0.007674</td>\n",
    "    <td style=\"border: 1px solid black\"></td>\n",
    "    <td style=\"border: 1px solid black\"></td>\n",
    "    <td style=\"border: 1px solid black\"></td>\n",
    "  </tr>\n",
    "  <tr style=\"border: 1px solid black\">\n",
    "    <td style=\"border: 1px solid black; font-weight: bold\">Pre-diabetic</td>\n",
    "    <td style=\"border: 1px solid black\">0.017873</td>\n",
    "    <td style=\"border: 1px solid black\"></td>\n",
    "    <td style=\"border: 1px solid black\"></td>\n",
    "    <td style=\"border: 1px solid black\"></td>\n",
    "  </tr>\n",
    "</table>"
   ]
  },
  {
   "cell_type": "markdown",
   "metadata": {},
   "source": [
    "**2b. What is the probability of the outcome if I have poor health (high blood pressure, high cholesterol, and overweight)?**"
   ]
  },
  {
   "cell_type": "code",
   "execution_count": 30,
   "metadata": {},
   "outputs": [
    {
     "name": "stdout",
     "output_type": "stream",
     "text": [
      "      probs  diabetes\n",
      "0  0.122279         1\n",
      "1  0.006718         2\n",
      "2  0.854003         3\n",
      "3  0.017000         4\n",
      "      probs  stroke\n",
      "0  0.083975       1\n",
      "1  0.916025       2\n",
      "     probs  attack\n",
      "0  0.13433       1\n",
      "1  0.86567       2\n",
      "      probs  angina\n",
      "0  0.153185       1\n",
      "1  0.846815       2\n"
     ]
    }
   ],
   "source": [
    "diabetes_poor_health = infer(network, diabetes_marg, [\"bp\", \"cholesterol\", \"bmi\"], [1, 1, 3])\n",
    "stroke_poor_health = infer(network, stroke_marg, [\"bp\", \"cholesterol\", \"bmi\"], [1, 1, 3])\n",
    "heart_attack_poor_health = infer(network, heart_attack_marg, [\"bp\", \"cholesterol\", \"bmi\"], [1, 1, 3])\n",
    "angina_poor_health = infer(network, angina_marg, [\"bp\", \"cholesterol\", \"bmi\"], [1, 1, 3])\n",
    "\n",
    "print(diabetes_poor_health)\n",
    "print(stroke_poor_health)\n",
    "print(heart_attack_poor_health)\n",
    "print(angina_poor_health)"
   ]
  },
  {
   "cell_type": "markdown",
   "metadata": {},
   "source": [
    "<table style=\"width: 80%, text-align: center\">\n",
    "  <caption style=\"font-size: 14px; color: black; text-align: center\">Health Risks With Poor Health</caption>\n",
    "  <tr style=\"border: 1px solid black\">\n",
    "    <th style=\"border: 1px solid black\"></th>\n",
    "    <th style=\"border: 1px solid black\">Diabetes</th>\n",
    "    <th style=\"border: 1px solid black\">Stroke</th>\n",
    "    <th style=\"border: 1px solid black\">Heart Attack</th>\n",
    "    <th style=\"border: 1px solid black\">Angina</th>\n",
    "  </tr>\n",
    "  <tr style=\"border: 1px solid black\">\n",
    "    <td style=\"border: 1px solid black; font-weight: bold\">Yes</td>\n",
    "    <td style=\"border: 1px solid black\">0.122279</td>\n",
    "    <td style=\"border: 1px solid black\">0.083975</td>\n",
    "    <td style=\"border: 1px solid black\">0.13433</td>\n",
    "    <td style=\"border: 1px solid black\">0.153185</td>\n",
    "  </tr>\n",
    "  <tr style=\"border: 1px solid black\">\n",
    "    <td style=\"border: 1px solid black; font-weight: bold\">No</td>\n",
    "    <td style=\"border: 1px solid black\">0.854003</td>\n",
    "    <td style=\"border: 1px solid black\">0.916025</td>\n",
    "    <td style=\"border: 1px solid black\">0.86567</td>\n",
    "    <td style=\"border: 1px solid black\">0.846815</td>\n",
    "  </tr>\n",
    "  <tr style=\"border: 1px solid black\">\n",
    "    <td style=\"border: 1px solid black; font-weight: bold\">Only During Pregnancy</td>\n",
    "    <td style=\"border: 1px solid black\">0.006718</td>\n",
    "    <td style=\"border: 1px solid black\"></td>\n",
    "    <td style=\"border: 1px solid black\"></td>\n",
    "    <td style=\"border: 1px solid black\"></td>\n",
    "  </tr>\n",
    "  <tr style=\"border: 1px solid black\">\n",
    "    <td style=\"border: 1px solid black; font-weight: bold\">Pre-diabetic</td>\n",
    "    <td style=\"border: 1px solid black\">0.017</td>\n",
    "    <td style=\"border: 1px solid black\"></td>\n",
    "    <td style=\"border: 1px solid black\"></td>\n",
    "    <td style=\"border: 1px solid black\"></td>\n",
    "  </tr>\n",
    "</table>"
   ]
  },
  {
   "cell_type": "markdown",
   "metadata": {},
   "source": [
    "**2b. How about if I have good health (low blood pressure, low cholesterol, and normal weight)?**"
   ]
  },
  {
   "cell_type": "code",
   "execution_count": 33,
   "metadata": {},
   "outputs": [
    {
     "name": "stdout",
     "output_type": "stream",
     "text": [
      "      probs  diabetes\n",
      "0  0.061634         1\n",
      "1  0.007800         2\n",
      "2  0.919897         3\n",
      "3  0.010668         4\n",
      "     probs  stroke\n",
      "0  0.01387       1\n",
      "1  0.98613       2\n",
      "      probs  attack\n",
      "0  0.015888       1\n",
      "1  0.984112       2\n",
      "      probs  angina\n",
      "0  0.012839       1\n",
      "1  0.987161       2\n"
     ]
    }
   ],
   "source": [
    "diabetes_good_health = infer(network, diabetes_marg, [\"bp\", \"cholesterol\", \"bmi\"], [3, 2, 2])\n",
    "stroke_good_health = infer(network, stroke_marg, [\"bp\", \"cholesterol\", \"bmi\"], [3, 2, 2])\n",
    "heart_attack_good_health = infer(network, heart_attack_marg, [\"bp\", \"cholesterol\", \"bmi\"], [3, 2, 2])\n",
    "angina_good_health = infer(network, angina_marg, [\"bp\", \"cholesterol\", \"bmi\"], [3, 2, 2])\n",
    "\n",
    "print(diabetes_good_health)\n",
    "print(stroke_good_health)\n",
    "print(heart_attack_good_health)\n",
    "print(angina_good_health)"
   ]
  },
  {
   "cell_type": "markdown",
   "metadata": {},
   "source": [
    "<table style=\"width: 80%, text-align: center\">\n",
    "  <caption style=\"font-size: 14px; color: black; text-align: center\">Health Risks With Good Health</caption>\n",
    "  <tr style=\"border: 1px solid black\">\n",
    "    <th style=\"border: 1px solid black\"></th>\n",
    "    <th style=\"border: 1px solid black\">Diabetes</th>\n",
    "    <th style=\"border: 1px solid black\">Stroke</th>\n",
    "    <th style=\"border: 1px solid black\">Heart Attack</th>\n",
    "    <th style=\"border: 1px solid black\">Angina</th>\n",
    "  </tr>\n",
    "  <tr style=\"border: 1px solid black\">\n",
    "    <td style=\"border: 1px solid black; font-weight: bold\">Yes</td>\n",
    "    <td style=\"border: 1px solid black\">0.061634</td>\n",
    "    <td style=\"border: 1px solid black\">0.01387</td>\n",
    "    <td style=\"border: 1px solid black\">0.01588</td>\n",
    "    <td style=\"border: 1px solid black\">0.012839</td>\n",
    "  </tr>\n",
    "  <tr style=\"border: 1px solid black\">\n",
    "    <td style=\"border: 1px solid black; font-weight: bold\">No</td>\n",
    "    <td style=\"border: 1px solid black\">0.919897</td>\n",
    "    <td style=\"border: 1px solid black\">0.98613</td>\n",
    "    <td style=\"border: 1px solid black\">0.984112</td>\n",
    "    <td style=\"border: 1px solid black\">0.987161</td>\n",
    "  </tr>\n",
    "  <tr style=\"border: 1px solid black\">\n",
    "    <td style=\"border: 1px solid black; font-weight: bold\">Only During Pregnancy</td>\n",
    "    <td style=\"border: 1px solid black\">0.0078</td>\n",
    "    <td style=\"border: 1px solid black\"></td>\n",
    "    <td style=\"border: 1px solid black\"></td>\n",
    "    <td style=\"border: 1px solid black\"></td>\n",
    "  </tr>\n",
    "  <tr style=\"border: 1px solid black\">\n",
    "    <td style=\"border: 1px solid black; font-weight: bold\">Pre-diabetic</td>\n",
    "    <td style=\"border: 1px solid black\">0.010668</td>\n",
    "    <td style=\"border: 1px solid black\"></td>\n",
    "    <td style=\"border: 1px solid black\"></td>\n",
    "    <td style=\"border: 1px solid black\"></td>\n",
    "  </tr>\n",
    "</table>"
   ]
  },
  {
   "cell_type": "code",
   "execution_count": null,
   "metadata": {
    "collapsed": true
   },
   "outputs": [],
   "source": []
  }
 ],
 "metadata": {
  "kernelspec": {
   "display_name": "Python 3",
   "language": "python",
   "name": "python3"
  },
  "language_info": {
   "codemirror_mode": {
    "name": "ipython",
    "version": 3
   },
   "file_extension": ".py",
   "mimetype": "text/x-python",
   "name": "python",
   "nbconvert_exporter": "python",
   "pygments_lexer": "ipython3",
   "version": "3.6.3"
  }
 },
 "nbformat": 4,
 "nbformat_minor": 2
}
