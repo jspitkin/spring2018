{
 "cells": [
  {
   "cell_type": "markdown",
   "metadata": {},
   "source": [
    "# Homework 0\n",
    "### Jake Pitkin\n",
    "**CS 6190: Probabilistic Modeling - Spring 2018**<br>\n",
    "**January 19th 2018**"
   ]
  },
  {
   "cell_type": "markdown",
   "metadata": {},
   "source": [
    "1. Let $X$ and $Y$ be continuous, real-valued random variables. Prove the following: \n",
    "\n",
    "    (a) $E[[X|Y]] = E[X]$\n",
    "    \n",
    "    First we will use the hint and apply the definition of expectation for continuous random variables over Y.\n",
    "    \n",
    "    $$\\int_{-\\infty}^{\\infty} E[ X | Y ] \\  p_y(y) \\ dy$$\n",
    "    \n",
    "    Next apply the definition of conditional expectation from the lecture notes.\n",
    "    \n",
    "    $$\\int_{-\\infty}^{\\infty} \\int_{-\\infty}^{\\infty} x \\ p_x(x \\ | \\ y) \\ dx \\  p_y(y) \\ dy$$\n",
    "    \n",
    "    Using the definition of joint probability density over two random variables $X, Y$ which is $p(x, y) = p(x|y) * p(y)$.\n",
    "    \n",
    "    $$\\int_{-\\infty}^{\\infty} \\int_{-\\infty}^{\\infty} x \\ p(x,y) \\ dx \\ dy$$\n",
    "    \n",
    "    Now that we have the joint probability density of $X$ and $Y$, we take the marginal density of X from the lecture notes.\n",
    "    \n",
    "    $$\\int_{-\\infty}^{\\infty} x \\ p(x) \\ dx$$\n",
    "    \n",
    "    Finally the definition of expection of a continuous random variable is applied:\n",
    "    \n",
    "    $$\\int_{-\\infty}^{\\infty} x \\ p(x) \\ dx = E[X]$$\n",
    "    \n",
    "    Thus we have shown that $E[[X|Y]] = E[X]$.\n",
    "    <br><br>\n",
    "    \n",
    "    (b) $Var(X) = E[Var(X|Y)] + Var(E[X|Y])$\n",
    "    \n",
    "    For this proof I will be using the expanded definition of variance $Var(x) = E[X^2] - E[X]^2$ which is shown here (https://en.wikipedia.org/wiki/Variance).\n",
    "    \n",
    "    Following the hint, we will expand both the terms on the RHS using the above definition of variance. Expanding $E[Var(X|Y)]$:\n",
    "    \n",
    "    $$E[E[X^2|Y] - E[X|Y]^2] + Var(E[X|Y])$$\n",
    "    \n",
    "   And expanding next expanding $Var(E[X|Y])$:\n",
    "   \n",
    "   $$E[E[X^2|Y] - E[X|Y]^2] + E[E[X|Y]^2] - E[E[X|Y]]^2$$\n",
    "   \n",
    "   Next we will use the linearity of expectation from the lecture notes:\n",
    "   \n",
    "   $$E[E[X^2|Y]] - E[E[X|Y]^2] + E[E[X|Y]^2] - E[E[X|Y]]^2$$\n",
    "   \n",
    "   Canceling out like terms:\n",
    "   \n",
    "   $$E[E[X^2|Y]] - E[E[X|Y]]^2$$\n",
    "   \n",
    "   Finally we apply the result from part (a) to both parts of the equation:\n",
    "   \n",
    "   $$E[X^2] - E[X]^2$$\n",
    "   \n",
    "   This matches the expanded definition of $Var(x)$\n",
    "   \n",
    "   $$Var(x) = E[X^2] - E[X]^2$$\n",
    "   \n",
    "   Thus we have shown that $Var(X) = E[Var(X|Y)] + Var(E[X|Y])$."
   ]
  },
  {
   "cell_type": "markdown",
   "metadata": {},
   "source": [
    "\n"
   ]
  }
 ],
 "metadata": {
  "kernelspec": {
   "display_name": "Python 3",
   "language": "python",
   "name": "python3"
  },
  "language_info": {
   "codemirror_mode": {
    "name": "ipython",
    "version": 3
   },
   "file_extension": ".py",
   "mimetype": "text/x-python",
   "name": "python",
   "nbconvert_exporter": "python",
   "pygments_lexer": "ipython3",
   "version": "3.6.3"
  }
 },
 "nbformat": 4,
 "nbformat_minor": 2
}
