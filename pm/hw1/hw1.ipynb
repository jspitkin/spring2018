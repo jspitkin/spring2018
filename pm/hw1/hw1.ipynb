{
 "cells": [
  {
   "cell_type": "markdown",
   "metadata": {},
   "source": [
    "# Homework 1\n",
    "### Jake Pitkin\n",
    "**CS 6190: Probabilistic Modeling - Spring 2018**<br>\n",
    "**February 3rd 2018**"
   ]
  },
  {
   "cell_type": "markdown",
   "metadata": {},
   "source": [
    "$1$. **Expectation of sufficient statistics:** Consider a random variable $X$ from a continuous exponential family with _natural_ parameter $\\eta = (\\eta_1,...,\\eta_n)$. Recall that this means the pdf is of the form:\n",
    "\n",
    "$$p(x) = h(x) \\ exp(\\eta \\cdot T(x) - A(\\eta))$$"
   ]
  },
  {
   "cell_type": "markdown",
   "metadata": {},
   "source": [
    "(1a) Show that $E[T(X) \\ | \\ \\eta] = \\nabla \\ A(\\eta) = (\\frac{dA}{d\\eta_1},...,\\frac{dA}{d\\eta_d})$.\n",
    "\n",
    "Using the hint, we will start by applying the identity $\\int p(x) \\ dx = 1$:\n",
    "\n",
    "$$\\int h(x) \\ exp(\\eta \\cdot T(x) - A(\\eta)) \\ dx = 1$$\n",
    "\n",
    "Then we will take the derivative with respect to $\\eta$ on both sides using the chain rule:\n",
    "\n",
    "$$\\frac{d}{d\\eta} \\int h(x) \\ exp(\\eta \\cdot T(x) - A(\\eta)) \\ dx = 0$$\n",
    "\n",
    "$$\\int h(x) \\ exp(\\eta \\cdot T(x) - A(\\eta)) \\ \\eta^\\prime \\ T(x) - A^\\prime(\\eta) \\ dx = 0$$\n",
    "\n",
    "Substituting back in the definition of the pdf $p(x)$:\n",
    "\n",
    "$$\\int p(x) \\ \\eta^\\prime \\ T(x) - A^\\prime(\\eta) \\ dx = 0$$\n",
    "\n",
    "Taking the definition of expectation of $T(x)$:\n",
    "\n",
    "$$E[T(x)] \\ \\eta^\\prime - A^\\prime(\\eta) = 0$$\n",
    "\n",
    "Re-arranging terms:\n",
    "\n",
    "$$E[T(x)] = \\frac{A^\\prime(\\eta)}{\\eta^\\prime} = \\frac{dA}{d\\eta}$$\n",
    "\n",
    "Thus given a _natural_ parameter $\\eta = (\\eta_1,...,\\eta_n)$, we have shown the expecation of $T(X)$ is:\n",
    "\n",
    "$$E[T(X)\\ | \\ \\eta] = (\\frac{dA}{d\\eta_1},...,\\frac{dA}{d\\eta_d}) = \\nabla \\ A(\\eta)$$\n",
    "<br>\n"
   ]
  },
  {
   "cell_type": "markdown",
   "metadata": {
    "collapsed": true
   },
   "source": [
    "(1b) Verify this formula works for the Gaussian distribution with unknown mean, $\\mu$, and known variance, $\\sigma^2$."
   ]
  },
  {
   "cell_type": "markdown",
   "metadata": {},
   "source": [
    "$2$. **Noninformative priors for the Poisson distribution:** Let $X \\sim Pois(\\lambda)$. Recall the pmf for the Poisson is\n",
    "\n",
    "$$P(X = k; \\lambda) = \\frac{\\lambda^k e^{-\\lambda}}{k!}$$"
   ]
  },
  {
   "cell_type": "markdown",
   "metadata": {},
   "source": [
    "(2a) Rewrite the above pmf in exponential family form. What is the natural parameter? What is the sufficient statistic?"
   ]
  },
  {
   "cell_type": "markdown",
   "metadata": {},
   "source": [
    "(2b) Give at least two different options for noninformative priors for $p(\\lambda)$."
   ]
  },
  {
   "cell_type": "markdown",
   "metadata": {},
   "source": [
    "(2c) What are the resulting posteriors for your two options? Are they proper (i.e., can they be normalized?)"
   ]
  },
  {
   "cell_type": "markdown",
   "metadata": {},
   "source": [
    "$3$. **Non-conjugate priors:** Let $X_i$ be from a Gaussian with known variance $\\sigma^2$ and mean $\\mu$ with _uniform prior_, i.e.,\n",
    "\n",
    "$$\\mu \\sim Unif(a, b)$$\n",
    "$$X_i \\sim N(\\mu, \\sigma^2)$$\n",
    "\n",
    "What is the posterior pdf, $p(\\mu \\ | \\ x_1,...,x_n;\\sigma^2, a, b$)?"
   ]
  },
  {
   "cell_type": "markdown",
   "metadata": {},
   "source": [
    "## Python Coding Part"
   ]
  },
  {
   "cell_type": "markdown",
   "metadata": {},
   "source": [
    "$4$. Use a conjuate prior $(\\mu_j, \\sigma_j^2) \\sim N-IG(0, 10^{-6}, 10^{-6}, 10^{-6})$, independently for each group $j$."
   ]
  }
 ],
 "metadata": {
  "kernelspec": {
   "display_name": "Python 3",
   "language": "python",
   "name": "python3"
  },
  "language_info": {
   "codemirror_mode": {
    "name": "ipython",
    "version": 3
   },
   "file_extension": ".py",
   "mimetype": "text/x-python",
   "name": "python",
   "nbconvert_exporter": "python",
   "pygments_lexer": "ipython3",
   "version": "3.6.3"
  }
 },
 "nbformat": 4,
 "nbformat_minor": 2
}
