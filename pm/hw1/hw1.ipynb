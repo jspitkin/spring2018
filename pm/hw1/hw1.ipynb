{
 "cells": [
  {
   "cell_type": "markdown",
   "metadata": {},
   "source": [
    "# Homework 1\n",
    "### Jake Pitkin\n",
    "**CS 6190: Probabilistic Modeling - Spring 2018**<br>\n",
    "**February 3rd 2018**"
   ]
  },
  {
   "cell_type": "markdown",
   "metadata": {},
   "source": [
    "1. **Expectation of sufficient statistics:** Consider a random variable $X$ from a continuous exponential family with _natural_ parameter $\\eta = (\\eta_1,...,\\eta_n)$. Recall that this means the pdf is of the form:\n",
    "\n",
    "$$p(x) = h(x) \\ exp(\\eta \\cdot T(x) - A(\\eta))$$"
   ]
  },
  {
   "cell_type": "markdown",
   "metadata": {},
   "source": [
    "(1a) Show that $E[T(X) \\ | \\ \\eta] = \\nabla \\ A(\\eta) = (\\frac{dA}{d\\eta_1},...,\\frac{dA}{d\\eta_d})$.\n",
    "\n",
    "We will first show $E[T(x) \\ | \\ \\eta_i] = \\frac{dA}{d\\eta_i}$ for a $\\eta_i \\in \\eta$. \n",
    "\n",
    "Using the hint, we will start by applying the identity $\\int p(x) \\ dx = 1$:\n",
    "\n",
    "$$\\int h(x) \\ exp(\\eta_i \\cdot T(x) - A(\\eta_i)) \\ dx = 1$$\n",
    "\n",
    "Then we will take the derivative with respect to $\\eta$ on both sides:\n",
    "\n",
    "$$\\frac{d}{d\\eta} \\int h(x) \\ exp(\\eta_i \\cdot T(x) - A(\\eta_i)) \\ dx = 0$$\n",
    "\n",
    "$$\\frac{d}{d\\eta} \\ exp(-A(\\eta_i)) \\int h(x) \\ exp(\\eta_i \\cdot T(x)) \\ dx = 0$$\n",
    "\n",
    "Taking part of the derivative for the term $exp(-A(\\eta_i))$:\n",
    "\n",
    "$$-exp(-A(\\eta_i)) \\int h(x) \\ (\\frac{d}{d\\eta} \\ exp(\\eta_i \\cdot T(x))) dx + A^\\prime(\\eta_i) \\int h(x) \\ exp(\\eta_i \\cdot T(x)) \\ dx = 0$$\n",
    "\n",
    "Then taking the inside derivative:\n",
    "\n",
    "$$-exp(-A(\\eta_i)) \\int h(x) \\ T(x) \\ exp(\\eta_i \\cdot T(x)) dx + A^\\prime(\\eta_i) \\int h(x) \\ exp(\\eta_i \\cdot T(x)) \\ dx = 0$$\n",
    "\n",
    "Rearrange terms and replace the pdf:\n",
    "\n",
    "$$-\\int T(x) \\ h(x) \\ exp(\\eta_i \\cdot T(x)) \\ exp(-A(\\eta_i)) dx + A^\\prime(\\eta_i) \\int h(x) \\ exp(\\eta_i \\cdot T(x)) \\ dx = 0$$\n",
    "\n",
    "$$-\\int T(x) \\ p(x) \\ dx + A^\\prime(\\eta_i) \\int h(x) \\ exp(\\eta_i \\cdot T(x)) \\ dx = 0$$\n",
    "\n",
    "Apply the definition of expectation:\n",
    "\n",
    "$$-E[T(x)] + A^\\prime(\\eta_i) \\int h(x) \\ exp(\\eta_i \\cdot T(x)) \\ dx = 0$$\n",
    "\n",
    "$$E[T(x)] = A^\\prime(\\eta_i) \\int h(x) \\ exp(\\eta_i \\cdot T(x)) \\ dx$$\n",
    "\n",
    "Multiply the RHS by 1 so we can apply the definition of $p(x)$ and the identity $\\int p(x) \\ dx = 1$:\n",
    "\n",
    "$$E[T(x)] = A^\\prime(\\eta_i) * \\frac{1}{exp(-A(\\eta_i))} \\int h(x) \\ exp(\\eta_i \\cdot T(x)) \\ exp(-A(\\eta_i)) \\ dx$$\n",
    "\n",
    "$$E[T(x)] = A^\\prime(\\eta_i) * \\frac{1}{exp(-A(\\eta_i))} \\int p(x) \\ dx$$\n",
    "\n",
    "$$E[T(x)] = \\frac{A^\\prime(\\eta_i)}{exp(-A(\\eta_i))}$$\n",
    "\n",
    "$$E[T(x)] = \\frac{d}{d\\eta} \\ A(\\eta_i) = \\frac{dA}{d\\eta}$$\n",
    "\n",
    "Finally we consider the expectation of $T(X)$ given all the _natural_ parameters $\\eta = (\\eta_1,...,\\eta_n)$:\n",
    "\n",
    "$$E[T(X) \\ | \\ \\eta] = (\\frac{dA}{d\\eta_1},...,\\frac{dA}{d\\eta_n}) = \\nabla A(\\eta)$$"
   ]
  }
 ],
 "metadata": {
  "kernelspec": {
   "display_name": "Python 3",
   "language": "python",
   "name": "python3"
  },
  "language_info": {
   "codemirror_mode": {
    "name": "ipython",
    "version": 3
   },
   "file_extension": ".py",
   "mimetype": "text/x-python",
   "name": "python",
   "nbconvert_exporter": "python",
   "pygments_lexer": "ipython3",
   "version": "3.6.3"
  }
 },
 "nbformat": 4,
 "nbformat_minor": 2
}
